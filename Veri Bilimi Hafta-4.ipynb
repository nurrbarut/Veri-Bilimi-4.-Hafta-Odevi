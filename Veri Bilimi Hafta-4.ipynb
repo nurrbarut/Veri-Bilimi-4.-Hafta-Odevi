{
 "cells": [
  {
   "cell_type": "markdown",
   "id": "5a801e92-9529-4264-9d17-7da33af0ae4f",
   "metadata": {},
   "source": [
    " # 📘 Veri Bilimi Ödevi – Numpy ve Pandas Uygulamaları "
   ]
  },
  {
   "cell_type": "markdown",
   "id": "2ed4dbc8-9d33-4e21-a4c1-4e7927d0999e",
   "metadata": {},
   "source": [
    "## 1. Numpy Bölümü "
   ]
  },
  {
   "cell_type": "markdown",
   "id": "b5d9b9f4-6f4f-4fa8-80b6-1916729d3dd0",
   "metadata": {},
   "source": [
    "### 1.1. Numpy ile Matris İşlemleri "
   ]
  },
  {
   "cell_type": "code",
   "execution_count": 2,
   "id": "4b54356a-42c7-4d3b-a338-ab5aded2f6c4",
   "metadata": {},
   "outputs": [
    {
     "name": "stdout",
     "output_type": "stream",
     "text": [
      "Matris:\n",
      " [[97 11 31 38 80]\n",
      " [11 69 54 97 95]\n",
      " [78 87 73 24 46]\n",
      " [77 31 76 79 35]\n",
      " [36 45 34 28 11]]\n",
      "\n",
      "Ortalama: 53.72\n",
      "Standart Sapma: 28.00645639848069\n",
      "Varyans: 784.3616000000001\n",
      "En büyük değer: 97\n",
      "En küçük değer: 11\n",
      "Köşegen toplamı: 329\n"
     ]
    }
   ],
   "source": [
    "import numpy as np\n",
    "matris = np.random.randint(0, 101, (5, 5))\n",
    "print(\"Matris:\\n\", matris)\n",
    "\n",
    "ortalama = np.mean(matris)\n",
    "std = np.std(matris)\n",
    "varyans = np.var(matris)\n",
    "\n",
    "maks = np.max(matris)\n",
    "minimum = np.min(matris)\n",
    "\n",
    "kosegen_toplam = np.trace(matris)\n",
    "\n",
    "print(\"\\nOrtalama:\", ortalama)\n",
    "print(\"Standart Sapma:\", std)\n",
    "print(\"Varyans:\", varyans)\n",
    "print(\"En büyük değer:\", maks)\n",
    "print(\"En küçük değer:\", minimum)\n",
    "print(\"Köşegen toplamı:\", kosegen_toplam)"
   ]
  },
  {
   "cell_type": "markdown",
   "id": "2d13827a-f507-4606-b781-a5efc69be463",
   "metadata": {},
   "source": [
    "### 1.2. Numpy ile Veri Simülasyonu "
   ]
  },
  {
   "cell_type": "code",
   "execution_count": 5,
   "id": "c13dd462-7ab7-485e-896e-9be1bb0ba60f",
   "metadata": {},
   "outputs": [
    {
     "name": "stdout",
     "output_type": "stream",
     "text": [
      "Ortalama: 69.7503647638262\n",
      "Medyan: 70.00892777339675\n",
      "Standart Sapma: 14.657810396974021\n",
      "50'den düşük alan öğrenci sayısı: 95\n"
     ]
    }
   ],
   "source": [
    "puanlar = np.random.normal(loc=70, scale=15, size=1000)\n",
    "puanlar = np.clip(puanlar, 0, 100)\n",
    "\n",
    "ortalama_puan = np.mean(puanlar)\n",
    "medyan_puan = np.median(puanlar)\n",
    "std_puan = np.std(puanlar)\n",
    "\n",
    "dusuk_alan = np.sum(puanlar < 50)\n",
    "\n",
    "print(\"Ortalama:\", ortalama_puan)\n",
    "print(\"Medyan:\", medyan_puan)\n",
    "print(\"Standart Sapma:\", std_puan)\n",
    "print(\"50'den düşük alan öğrenci sayısı:\", dusuk_alan)"
   ]
  },
  {
   "cell_type": "markdown",
   "id": "da260003-b564-489b-a5bf-e9536c1e4c4a",
   "metadata": {},
   "source": [
    "## 2. Pandas Bölümü "
   ]
  },
  {
   "cell_type": "code",
   "execution_count": 6,
   "id": "58eb8dc7-efde-4138-8e32-37476c8d73ce",
   "metadata": {},
   "outputs": [
    {
     "name": "stdout",
     "output_type": "stream",
     "text": [
      "  Öğrenci  Yaş       Bölüm  Matematik  Fizik  Kimya\n",
      "0     Ali   20  Bilgisayar         70     65     80\n",
      "1    Ayşe   21       Fizik         60     75     85\n",
      "2  Mehmet   19       Kimya         80     70     65\n",
      "3  Zeynep   22  Bilgisayar         90     85     95\n",
      "4   Ahmet   20       Fizik         55     60     70\n",
      "Her dersin ortalaması:\n",
      " Matematik    71.0\n",
      "Fizik        71.0\n",
      "Kimya        79.0\n",
      "dtype: float64\n",
      "En yüksek matematik notunu alan öğrenci: Zeynep\n",
      "  Öğrenci  Yaş       Bölüm  Matematik  Fizik  Kimya   Ortalama\n",
      "0     Ali   20  Bilgisayar         70     65     80  71.666667\n",
      "1    Ayşe   21       Fizik         60     75     85  73.333333\n",
      "2  Mehmet   19       Kimya         80     70     65  71.666667\n",
      "3  Zeynep   22  Bilgisayar         90     85     95  90.000000\n",
      "4   Ahmet   20       Fizik         55     60     70  61.666667\n",
      "Bölümlere göre ortalamalar:\n",
      "             Matematik  Fizik  Kimya   Ortalama\n",
      "Bölüm                                         \n",
      "Bilgisayar       80.0   75.0   87.5  80.833333\n",
      "Fizik            57.5   67.5   77.5  67.500000\n",
      "Kimya            80.0   70.0   65.0  71.666667\n",
      "Ortalaması 70'in üzerinde olan öğrenciler:\n",
      "   Öğrenci  Yaş       Bölüm  Matematik  Fizik  Kimya   Ortalama\n",
      "0     Ali   20  Bilgisayar         70     65     80  71.666667\n",
      "1    Ayşe   21       Fizik         60     75     85  73.333333\n",
      "2  Mehmet   19       Kimya         80     70     65  71.666667\n",
      "3  Zeynep   22  Bilgisayar         90     85     95  90.000000\n"
     ]
    }
   ],
   "source": [
    "import pandas as pd\n",
    "\n",
    "data = {\n",
    "    \"Öğrenci\": [\"Ali\", \"Ayşe\", \"Mehmet\", \"Zeynep\", \"Ahmet\"],\n",
    "    \"Yaş\": [20, 21, 19, 22, 20],\n",
    "    \"Bölüm\": [\"Bilgisayar\", \"Fizik\", \"Kimya\", \"Bilgisayar\", \"Fizik\"],\n",
    "    \"Matematik\": [70, 60, 80, 90, 55],\n",
    "    \"Fizik\": [65, 75, 70, 85, 60],\n",
    "    \"Kimya\": [80, 85, 65, 95, 70]\n",
    "}\n",
    "\n",
    "df = pd.DataFrame(data)\n",
    "print(df)\n",
    "\n",
    "ders_ort = df[[\"Matematik\", \"Fizik\", \"Kimya\"]].mean()\n",
    "print(\"Her dersin ortalaması:\\n\", ders_ort)\n",
    "\n",
    "en_yuksek_mat_index = df[\"Matematik\"].idxmax()\n",
    "en_yuksek_mat_ogrenci = df.loc[en_yuksek_mat_index, \"Öğrenci\"]\n",
    "print(\"En yüksek matematik notunu alan öğrenci:\", en_yuksek_mat_ogrenci)\n",
    "\n",
    "df[\"Ortalama\"] = df[[\"Matematik\", \"Fizik\", \"Kimya\"]].mean(axis=1)\n",
    "print(df)\n",
    "\n",
    "bolum_ort = df.groupby(\"Bölüm\")[[\"Matematik\", \"Fizik\", \"Kimya\", \"Ortalama\"]].mean()\n",
    "print(\"Bölümlere göre ortalamalar:\\n\", bolum_ort)\n",
    "\n",
    "basarili_ogrenciler = df[df[\"Ortalama\"] > 70]\n",
    "print(\"Ortalaması 70'in üzerinde olan öğrenciler:\\n\", basarili_ogrenciler)"
   ]
  }
 ],
 "metadata": {
  "kernelspec": {
   "display_name": "Python [conda env:base] *",
   "language": "python",
   "name": "conda-base-py"
  },
  "language_info": {
   "codemirror_mode": {
    "name": "ipython",
    "version": 3
   },
   "file_extension": ".py",
   "mimetype": "text/x-python",
   "name": "python",
   "nbconvert_exporter": "python",
   "pygments_lexer": "ipython3",
   "version": "3.13.5"
  }
 },
 "nbformat": 4,
 "nbformat_minor": 5
}
